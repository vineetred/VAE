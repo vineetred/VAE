{
 "cells": [
  {
   "cell_type": "code",
   "execution_count": 56,
   "metadata": {},
   "outputs": [],
   "source": [
    "# dependencies (numpy, matplotlib, and keras)\n",
    "import numpy as np\n",
    "import matplotlib.pyplot as plt\n",
    "from scipy.stats import norm\n",
    "from keras.layers import Input, Dense, Lambda, MaxPooling2D, Conv2D,Conv1D, Flatten\n",
    "from keras.models import Model,Sequential\n",
    "from keras import backend as K\n",
    "from keras import objectives\n",
    "from keras.layers.core import Dense, Dropout, Activation\n",
    "from keras.datasets import mnist\n",
    "import tensorflow as tf\n",
    "from sklearn.model_selection import train_test_split\n",
    "from keras.utils import np_utils\n",
    "import pickle"
   ]
  },
  {
   "cell_type": "code",
   "execution_count": 93,
   "metadata": {},
   "outputs": [],
   "source": [
    "#PREPARING THE DATA\n",
    "\n",
    "(x_train, y_train), (x_test, y_test) = mnist.load_data()\n",
    "x_train = x_train.astype('float32') / 255.\n",
    "x_test = x_test.astype('float32') / 255.\n",
    "x_train = x_train.reshape((len(x_train), np.prod(x_train.shape[1:])))\n",
    "x_test = x_test.reshape((len(x_test), np.prod(x_test.shape[1:])))\n",
    "Part2_PLOT = x_test\n",
    "Part2_PLOT_Colour = y_test\n",
    "\n",
    "#Making the target categorical\n",
    "y_train = np_utils.to_categorical(y_train, 10)\n",
    "y_test = np_utils.to_categorical(y_test,10)\n",
    "\n",
    "#Splitting the data into three partitions - 70, 20 and 10\n",
    "X_part1, X_part3, y_part1, y_part3 = train_test_split(x_train, y_train, test_size=0.1)\n",
    "X_part2 = x_test\n",
    "y_part2 = y_test\n"
   ]
  },
  {
   "cell_type": "code",
   "execution_count": 94,
   "metadata": {},
   "outputs": [],
   "source": [
    "input_shape = 784\n",
    "batch_size = 100\n",
    "hidden_dim = 256\n",
    "features = 5\n",
    "epoch = 5\n",
    "\n",
    "#Encoder Begin\n",
    "X_input = Input(batch_shape = (batch_size,input_shape))\n",
    "hidden = Dense(hidden_dim, activation='relu')(X_input)\n",
    "\n",
    "#Begin the Squeeze\n",
    "mean = Dense(features,name='Mean')\n",
    "Z_mean = mean(hidden)\n",
    "variance = Dense(features,name='Variance')\n",
    "Z_variance = variance(hidden)"
   ]
  },
  {
   "cell_type": "code",
   "execution_count": 95,
   "metadata": {},
   "outputs": [],
   "source": [
    "#Begin the Sampling function\n",
    "def sample(args):\n",
    "    Z_mean, Z_var = args\n",
    "    epsilon = K.random_normal(shape=(batch_size, features), mean=0.)\n",
    "    return Z_mean + K.exp(Z_variance / 2) * epsilon\n",
    "\n",
    "#Wrapping into a tensor shape as above output not the format we want\n",
    "Z = Lambda(sample, output_shape=(features,),name=\"Z_Sampling\")([Z_mean, Z_variance])"
   ]
  },
  {
   "cell_type": "code",
   "execution_count": 96,
   "metadata": {},
   "outputs": [
    {
     "name": "stdout",
     "output_type": "stream",
     "text": [
      "__________________________________________________________________________________________________\n",
      "Layer (type)                    Output Shape         Param #     Connected to                     \n",
      "==================================================================================================\n",
      "input_13 (InputLayer)           (100, 784)           0                                            \n",
      "__________________________________________________________________________________________________\n",
      "dense_25 (Dense)                (100, 256)           200960      input_13[0][0]                   \n",
      "__________________________________________________________________________________________________\n",
      "Mean (Dense)                    (100, 5)             1285        dense_25[0][0]                   \n",
      "__________________________________________________________________________________________________\n",
      "Variance (Dense)                (100, 5)             1285        dense_25[0][0]                   \n",
      "__________________________________________________________________________________________________\n",
      "Z_Sampling (Lambda)             (100, 5)             0           Mean[0][0]                       \n",
      "                                                                 Variance[0][0]                   \n",
      "__________________________________________________________________________________________________\n",
      "dense_26 (Dense)                (100, 256)           1536        Z_Sampling[0][0]                 \n",
      "__________________________________________________________________________________________________\n",
      "dense_27 (Dense)                (100, 784)           201488      dense_26[0][0]                   \n",
      "==================================================================================================\n",
      "Total params: 406,554\n",
      "Trainable params: 406,554\n",
      "Non-trainable params: 0\n",
      "__________________________________________________________________________________________________\n"
     ]
    }
   ],
   "source": [
    "#Decoder begin\n",
    "dec_hidden = Dense(hidden_dim, activation = 'relu')\n",
    "decoder_hidden = dec_hidden(Z)\n",
    "dec_X = Dense(input_shape, activation = 'sigmoid')\n",
    "decoded_X = dec_X(decoder_hidden)\n",
    "\n",
    "#Our loss function\n",
    "def vae_loss(X_input, decoded_X):\n",
    "    xent_loss = input_shape * objectives.binary_crossentropy(X_input, decoded_X)\n",
    "    kl_loss = - 0.5 * K.sum(1 + Z_variance - K.square(Z_mean) - K.exp(Z_variance), axis=-1)\n",
    "    return xent_loss + kl_loss\n",
    "\n",
    "#We compile our model\n",
    "vae = Model(X_input, decoded_X)\n",
    "vae.compile(optimizer='rmsprop', loss=vae_loss)\n",
    "vae.summary()"
   ]
  },
  {
   "cell_type": "code",
   "execution_count": 97,
   "metadata": {},
   "outputs": [
    {
     "name": "stdout",
     "output_type": "stream",
     "text": [
      "Train on 54000 samples, validate on 10000 samples\n",
      "Epoch 1/5\n",
      "54000/54000 [==============================] - 9s 164us/step - loss: 168.4060 - val_loss: 145.2719\n",
      "Epoch 2/5\n",
      "54000/54000 [==============================] - 6s 117us/step - loss: 141.6882 - val_loss: 138.2217\n",
      "Epoch 3/5\n",
      "54000/54000 [==============================] - 6s 120us/step - loss: 137.4683 - val_loss: 135.4380\n",
      "Epoch 4/5\n",
      "54000/54000 [==============================] - 7s 135us/step - loss: 135.2630 - val_loss: 133.6287\n",
      "Epoch 5/5\n",
      "54000/54000 [==============================] - 8s 157us/step - loss: 133.8192 - val_loss: 132.5722\n"
     ]
    }
   ],
   "source": [
    "#Train\n",
    "history = vae.fit(X_part1, X_part1, #Target will be the same as the input as we are trying to reconstruct the same thing\n",
    "        shuffle=True,\n",
    "        epochs=epoch,\n",
    "        batch_size=batch_size,\n",
    "        validation_data=(X_part2, X_part2),verbose=1)"
   ]
  },
  {
   "cell_type": "code",
   "execution_count": null,
   "metadata": {},
   "outputs": [],
   "source": [
    "#We plot the Latent space\n",
    "\n",
    "#Create an encoder model that has just the encoding layers\n",
    "encoder = Model(X_input, Z)\n",
    "\n",
    "#Displaying a scatterplot of our digits and their actual classifictions to see the degree of loss of information\n",
    "#after being mapped to the latent space\n",
    "\n",
    "Part2_encoded = encoder.predict(Part2_PLOT, batch_size=batch_size)\n",
    "plt.figure(figsize=(6, 6))\n",
    "plt.scatter(Part2_encoded[:, 0], Part2_encoded[:, 1], c=Part2_PLOT_Colour,cmap=\"viridis\")\n",
    "plt.colorbar()\n",
    "plt.show()"
   ]
  },
  {
   "cell_type": "code",
   "execution_count": null,
   "metadata": {},
   "outputs": [],
   "source": [
    "#Have to specify the decoder layers again\n",
    "inputDecoder = Input(shape = (features,))\n",
    "hiddenLayerDecoder = dec_hidden(inputDecoder)\n",
    "outputDecoder = dec_X(hiddenLayerDecoder)\n",
    "\n",
    "#The decoder\n",
    "decoder = Model(inputDecoder, outputDecoder)\n",
    "\n",
    "#Generating encoded images\n",
    "encodedImg = encoder.predict(X_part2, batch_size=batch_size)\n",
    "#Generating the reconstructed images\n",
    "decodedImg = decoder.predict(encodedImg, batch_size=batch_size)"
   ]
  },
  {
   "cell_type": "code",
   "execution_count": null,
   "metadata": {},
   "outputs": [],
   "source": [
    "#WARNING - Plotting only works when features is set as 2\n",
    "grid_x = norm.ppf(np.linspace(0.01, 0.95, 15))\n",
    "grid_y = norm.ppf(np.linspace(0.01, 0.95, 15))\n",
    "\n",
    "n = 15\n",
    "k = 0\n",
    "\n",
    "plt.figure(figsize=(30,4))\n",
    "for i,xval in enumerate(grid_x):\n",
    "    for j,yval in enumerate(grid_y):\n",
    "        ax = plt.subplot(2, n, k+1)\n",
    "        f = np.array([[xval,yval]])\n",
    "        f = decoder.predict(f)\n",
    "        plt.imshow(f.reshape((28,28)),cmap='viridis')\n",
    "        ax.get_xaxis().set_visible(False)\n",
    "        ax.get_yaxis().set_visible(False)\n",
    "        k+=1\n",
    "\n",
    "        \n",
    "        if(k==30):\n",
    "            break\n",
    "    if(k==30):\n",
    "        break"
   ]
  },
  {
   "cell_type": "code",
   "execution_count": 92,
   "metadata": {},
   "outputs": [],
   "source": [
    "encoded_X = encoder.predict(X_part2, batch_size=batch_size)\n",
    "encoded_X.shape\n",
    "test_encoded_X = encoder.predict(X_part3, batch_size=batch_size)\n",
    "\n",
    "#Writing encoded outputs to file\n",
    "file = open('encoded.txt', 'wb')\n",
    "pickle.dump(encoded_X, file)\n",
    "file.close()\n",
    "file = open('test_encoded.txt', 'wb')\n",
    "pickle.dump(test_encoded_X, file)\n",
    "file.close()"
   ]
  },
  {
   "cell_type": "code",
   "execution_count": 79,
   "metadata": {},
   "outputs": [
    {
     "data": {
      "image/png": "[encoded data removed]",
      "text/plain": [
       "<Figure size 432x288 with 1 Axes>"
      ]
     },
     "metadata": {
      "needs_background": "light"
     },
     "output_type": "display_data"
    },
    {
     "name": "stdout",
     "output_type": "stream",
     "text": [
      "3\n"
     ]
    },
    {
     "data": {
      "image/png": "[encoded data removed]",
      "text/plain": [
       "<Figure size 432x288 with 1 Axes>"
      ]
     },
     "metadata": {
      "needs_background": "light"
     },
     "output_type": "display_data"
    }
   ],
   "source": [
    "#Check the reconstruction here\n",
    "num = 993\n",
    "plt.imshow(X_part3[num].reshape(28,28))\n",
    "plt.show()\n",
    "\n",
    "encodImg = np.array([test_encoded_X[num]])\n",
    "prediction = decoder.predict(encodImg)\n",
    "plt.imshow(prediction.reshape((28,28)))\n",
    "print(np.argmax(y_part3[num]))"
   ]
  }
 ],
 "metadata": {
  "kernelspec": {
   "display_name": "Python 3",
   "language": "python",
   "name": "python3"
  },
  "language_info": {
   "codemirror_mode": {
    "name": "ipython",
    "version": 3
   },
   "file_extension": ".py",
   "mimetype": "text/x-python",
   "name": "python",
   "nbconvert_exporter": "python",
   "pygments_lexer": "ipython3",
   "version": "3.6.4"
  }
 },
 "nbformat": 4,
 "nbformat_minor": 2
}
