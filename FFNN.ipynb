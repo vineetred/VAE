{
 "cells": [
  {
   "cell_type": "code",
   "execution_count": 47,
   "metadata": {},
   "outputs": [],
   "source": [
    "# dependencies (numpy, matplotlib, and keras)\n",
    "import numpy as np\n",
    "import matplotlib.pyplot as plt\n",
    "from scipy.stats import norm\n",
    "from keras.layers import Input, Dense, Lambda, MaxPooling2D, Conv2D,Conv1D, Flatten, MaxPool2D\n",
    "from keras.models import Model,Sequential\n",
    "from keras import backend as K\n",
    "from keras import objectives\n",
    "from keras.layers.core import Dense, Dropout, Activation\n",
    "from keras.datasets import mnist\n",
    "import tensorflow as tf\n",
    "from sklearn.model_selection import train_test_split\n",
    "from keras.utils import np_utils\n",
    "import pickle"
   ]
  },
  {
   "cell_type": "code",
   "execution_count": 68,
   "metadata": {},
   "outputs": [],
   "source": [
    "#PREPARING THE DATA\n",
    "\n",
    "(x_train, y_train), (x_test, y_test) = mnist.load_data()\n",
    "x_train = x_train.astype('float32') / 255.\n",
    "x_test = x_test.astype('float32') / 255.\n",
    "x_train = x_train.reshape((len(x_train), np.prod(x_train.shape[1:])))\n",
    "x_test = x_test.reshape((len(x_test), np.prod(x_test.shape[1:])))\n",
    "Part2_PLOT1 = x_test\n",
    "\n",
    "#Making the target categorical\n",
    "y_train = np_utils.to_categorical(y_train, 10)\n",
    "y_test = np_utils.to_categorical(y_test,10)\n",
    "\n",
    "#Splitting the data into three partitions - 70, 20 and 10\n",
    "X_part1, X_part3, y_part1, y_part3 = train_test_split(x_train, y_train, test_size=0.1)\n",
    "X_part2 = x_test\n",
    "y_part2 = y_test\n"
   ]
  },
  {
   "cell_type": "code",
   "execution_count": 69,
   "metadata": {},
   "outputs": [],
   "source": [
    "#Opening the encoded Outputs\n",
    "file = open('encoded.txt', 'rb')\n",
    "encoded_X = pickle.load(file)\n",
    "file.close()\n",
    "file = open('test_encoded.txt', 'rb')\n",
    "test_encoded_X =  pickle.load(file)\n",
    "file.close()\n",
    "\n",
    "#Hyperparameters\n",
    "features = encoded_X.shape[1]\n",
    "batch_size = 100\n",
    "epoch = 100"
   ]
  },
  {
   "cell_type": "code",
   "execution_count": null,
   "metadata": {},
   "outputs": [
    {
     "name": "stdout",
     "output_type": "stream",
     "text": [
      "_________________________________________________________________\n",
      "Layer (type)                 Output Shape              Param #   \n",
      "=================================================================\n",
      "dense_69 (Dense)             (None, 128)               768       \n",
      "_________________________________________________________________\n",
      "dense_70 (Dense)             (None, 512)               66048     \n",
      "_________________________________________________________________\n",
      "dropout_38 (Dropout)         (None, 512)               0         \n",
      "_________________________________________________________________\n",
      "dense_71 (Dense)             (None, 10)                5130      \n",
      "=================================================================\n",
      "Total params: 71,946\n",
      "Trainable params: 71,946\n",
      "Non-trainable params: 0\n",
      "_________________________________________________________________\n",
      "Train on 10000 samples, validate on 6000 samples\n",
      "Epoch 1/100\n",
      "10000/10000 [==============================] - 2s 219us/step - loss: 0.8468 - acc: 0.7366 - val_loss: 6.1328 - val_acc: 0.1032\n",
      "Epoch 2/100\n",
      "10000/10000 [==============================] - 1s 54us/step - loss: 0.5323 - acc: 0.8143 - val_loss: 6.8564 - val_acc: 0.1030\n",
      "Epoch 3/100\n",
      "10000/10000 [==============================] - 1s 55us/step - loss: 0.4905 - acc: 0.8291 - val_loss: 7.2383 - val_acc: 0.1052\n",
      "Epoch 4/100\n",
      "10000/10000 [==============================] - 1s 54us/step - loss: 0.4647 - acc: 0.8383 - val_loss: 7.3527 - val_acc: 0.1030\n",
      "Epoch 5/100\n",
      "10000/10000 [==============================] - 1s 55us/step - loss: 0.4490 - acc: 0.8438 - val_loss: 7.4561 - val_acc: 0.1025\n",
      "Epoch 6/100\n",
      "10000/10000 [==============================] - 1s 54us/step - loss: 0.4422 - acc: 0.8457 - val_loss: 7.5945 - val_acc: 0.1027\n",
      "Epoch 7/100\n",
      "10000/10000 [==============================] - 1s 54us/step - loss: 0.4329 - acc: 0.8498 - val_loss: 7.8964 - val_acc: 0.1052\n",
      "Epoch 8/100\n",
      "10000/10000 [==============================] - 1s 54us/step - loss: 0.4284 - acc: 0.8471 - val_loss: 7.8432 - val_acc: 0.1052\n",
      "Epoch 9/100\n",
      "10000/10000 [==============================] - 1s 59us/step - loss: 0.4209 - acc: 0.8538 - val_loss: 7.9511 - val_acc: 0.1015\n",
      "Epoch 10/100\n",
      "10000/10000 [==============================] - 1s 64us/step - loss: 0.4155 - acc: 0.8532 - val_loss: 7.9371 - val_acc: 0.1035\n",
      "Epoch 11/100\n",
      "10000/10000 [==============================] - 1s 78us/step - loss: 0.4171 - acc: 0.8523 - val_loss: 8.0118 - val_acc: 0.1033\n",
      "Epoch 12/100\n",
      "10000/10000 [==============================] - 1s 68us/step - loss: 0.4121 - acc: 0.8554 - val_loss: 8.0585 - val_acc: 0.1025\n",
      "Epoch 13/100\n",
      "10000/10000 [==============================] - 1s 62us/step - loss: 0.4101 - acc: 0.8558 - val_loss: 8.0815 - val_acc: 0.1027\n",
      "Epoch 14/100\n",
      "10000/10000 [==============================] - 1s 54us/step - loss: 0.4018 - acc: 0.8555 - val_loss: 8.2034 - val_acc: 0.1032\n",
      "Epoch 15/100\n",
      "10000/10000 [==============================] - 1s 54us/step - loss: 0.4022 - acc: 0.8569 - val_loss: 8.2507 - val_acc: 0.1037\n",
      "Epoch 16/100\n",
      "10000/10000 [==============================] - 1s 74us/step - loss: 0.4012 - acc: 0.8561 - val_loss: 8.2085 - val_acc: 0.1033\n",
      "Epoch 17/100\n",
      "10000/10000 [==============================] - 1s 59us/step - loss: 0.3972 - acc: 0.8590 - val_loss: 8.3031 - val_acc: 0.1045\n",
      "Epoch 18/100\n",
      "10000/10000 [==============================] - 1s 59us/step - loss: 0.3930 - acc: 0.8616 - val_loss: 8.3460 - val_acc: 0.1053\n",
      "Epoch 19/100\n",
      "10000/10000 [==============================] - 1s 55us/step - loss: 0.3950 - acc: 0.8592 - val_loss: 8.2869 - val_acc: 0.1032\n",
      "Epoch 20/100\n",
      "10000/10000 [==============================] - 1s 55us/step - loss: 0.3894 - acc: 0.8585 - val_loss: 8.4975 - val_acc: 0.1038\n",
      "Epoch 21/100\n",
      "10000/10000 [==============================] - 1s 56us/step - loss: 0.3911 - acc: 0.8614 - val_loss: 8.5062 - val_acc: 0.1023\n",
      "Epoch 22/100\n",
      "10000/10000 [==============================] - 1s 55us/step - loss: 0.3876 - acc: 0.8599 - val_loss: 8.4660 - val_acc: 0.1052\n",
      "Epoch 23/100\n",
      "10000/10000 [==============================] - 1s 55us/step - loss: 0.3869 - acc: 0.8629 - val_loss: 8.4064 - val_acc: 0.1027\n",
      "Epoch 24/100\n",
      "10000/10000 [==============================] - 1s 57us/step - loss: 0.3829 - acc: 0.8641 - val_loss: 8.5312 - val_acc: 0.1033\n",
      "Epoch 25/100\n",
      "10000/10000 [==============================] - 1s 89us/step - loss: 0.3827 - acc: 0.8604 - val_loss: 8.5872 - val_acc: 0.1035\n",
      "Epoch 26/100\n",
      "10000/10000 [==============================] - 1s 73us/step - loss: 0.3795 - acc: 0.8613 - val_loss: 8.5852 - val_acc: 0.1042\n",
      "Epoch 27/100\n",
      "10000/10000 [==============================] - 0s 49us/step - loss: 0.3774 - acc: 0.8660 - val_loss: 8.6957 - val_acc: 0.1038\n",
      "Epoch 28/100\n",
      "10000/10000 [==============================] - 0s 48us/step - loss: 0.3751 - acc: 0.8639 - val_loss: 8.6144 - val_acc: 0.1028\n",
      "Epoch 29/100\n",
      "10000/10000 [==============================] - 0s 48us/step - loss: 0.3746 - acc: 0.8655 - val_loss: 8.6577 - val_acc: 0.1033\n",
      "Epoch 30/100\n",
      "10000/10000 [==============================] - 0s 50us/step - loss: 0.3734 - acc: 0.8658 - val_loss: 8.7809 - val_acc: 0.1042\n",
      "Epoch 31/100\n",
      "10000/10000 [==============================] - 0s 49us/step - loss: 0.3725 - acc: 0.8666 - val_loss: 8.7200 - val_acc: 0.1038\n",
      "Epoch 32/100\n",
      "10000/10000 [==============================] - 0s 49us/step - loss: 0.3754 - acc: 0.8655 - val_loss: 8.7596 - val_acc: 0.1037\n",
      "Epoch 33/100\n",
      "10000/10000 [==============================] - 0s 48us/step - loss: 0.3711 - acc: 0.8651 - val_loss: 8.9377 - val_acc: 0.1042\n",
      "Epoch 34/100\n",
      "10000/10000 [==============================] - 0s 48us/step - loss: 0.3680 - acc: 0.8657 - val_loss: 8.9423 - val_acc: 0.1033\n",
      "Epoch 35/100\n",
      "10000/10000 [==============================] - 0s 48us/step - loss: 0.3689 - acc: 0.8653 - val_loss: 8.9648 - val_acc: 0.1043\n",
      "Epoch 36/100\n",
      "10000/10000 [==============================] - 0s 49us/step - loss: 0.3675 - acc: 0.8681 - val_loss: 8.8702 - val_acc: 0.1035\n",
      "Epoch 37/100\n",
      "10000/10000 [==============================] - 0s 48us/step - loss: 0.3637 - acc: 0.8685 - val_loss: 9.0177 - val_acc: 0.1065\n",
      "Epoch 38/100\n",
      "10000/10000 [==============================] - 0s 49us/step - loss: 0.3649 - acc: 0.8673 - val_loss: 9.1363 - val_acc: 0.1055\n",
      "Epoch 39/100\n",
      "10000/10000 [==============================] - 0s 48us/step - loss: 0.3632 - acc: 0.8657 - val_loss: 9.0767 - val_acc: 0.1035\n",
      "Epoch 40/100\n",
      "10000/10000 [==============================] - 0s 48us/step - loss: 0.3654 - acc: 0.8657 - val_loss: 9.1769 - val_acc: 0.1037\n",
      "Epoch 41/100\n",
      "10000/10000 [==============================] - 0s 48us/step - loss: 0.3617 - acc: 0.8662 - val_loss: 9.0717 - val_acc: 0.1042\n",
      "Epoch 42/100\n",
      "10000/10000 [==============================] - 0s 48us/step - loss: 0.3593 - acc: 0.8700 - val_loss: 9.1251 - val_acc: 0.1042\n",
      "Epoch 43/100\n",
      "10000/10000 [==============================] - 0s 48us/step - loss: 0.3587 - acc: 0.8677 - val_loss: 9.1150 - val_acc: 0.1035\n",
      "Epoch 44/100\n",
      "10000/10000 [==============================] - 0s 49us/step - loss: 0.3568 - acc: 0.8702 - val_loss: 9.2545 - val_acc: 0.1045\n",
      "Epoch 45/100\n",
      "10000/10000 [==============================] - 0s 49us/step - loss: 0.3564 - acc: 0.8689 - val_loss: 9.1331 - val_acc: 0.1043\n",
      "Epoch 46/100\n",
      "10000/10000 [==============================] - 0s 49us/step - loss: 0.3555 - acc: 0.8699 - val_loss: 9.3063 - val_acc: 0.1040\n",
      "Epoch 47/100\n",
      "10000/10000 [==============================] - 1s 52us/step - loss: 0.3518 - acc: 0.8722 - val_loss: 9.2473 - val_acc: 0.1060\n",
      "Epoch 48/100\n",
      "10000/10000 [==============================] - 1s 52us/step - loss: 0.3516 - acc: 0.8713 - val_loss: 9.3357 - val_acc: 0.1033\n",
      "Epoch 49/100\n",
      "10000/10000 [==============================] - 1s 69us/step - loss: 0.3555 - acc: 0.8728 - val_loss: 9.3721 - val_acc: 0.1033\n",
      "Epoch 50/100\n",
      "10000/10000 [==============================] - 1s 73us/step - loss: 0.3534 - acc: 0.8680 - val_loss: 9.3425 - val_acc: 0.1047\n",
      "Epoch 51/100\n",
      " 9300/10000 [==========================>...] - ETA: 0s - loss: 0.3542 - acc: 0.8696"
     ]
    }
   ],
   "source": [
    "#BEGIN FFNN\n",
    "model = Sequential()\n",
    "model.add(Dense(128, input_shape=(features,), activation = 'relu'))\n",
    "# model.add(Dropout(0.2))\n",
    "# model.add(Dense(230, activation = 'relu'))\n",
    "model.add(Dense(512, activation = 'relu'))\n",
    "model.add(Dropout(0.3))\n",
    "model.add(Dense(10, activation = 'softmax'))\n",
    "model.summary()\n",
    "model.compile(loss='categorical_crossentropy', metrics=['accuracy'], optimizer='adadelta')\n",
    "\n",
    "history = model.fit(encoded_X, y_part2,\n",
    "          batch_size=batch_size,\n",
    "          epochs=epoch,\n",
    "          validation_data=(test_encoded_X,y_part3))"
   ]
  },
  {
   "cell_type": "code",
   "execution_count": 67,
   "metadata": {},
   "outputs": [
    {
     "data": {
      "image/png": "[encoded data removed]",
      "text/plain": [
       "<Figure size 432x288 with 1 Axes>"
      ]
     },
     "metadata": {
      "needs_background": "light"
     },
     "output_type": "display_data"
    }
   ],
   "source": [
    "#PLOTTING ACCURACY\n",
    "plt.plot(history.history['acc'])\n",
    "plt.title('Accuracy with '+str(features)+' features')\n",
    "plt.show()"
   ]
  },
  {
   "cell_type": "code",
   "execution_count": 22,
   "metadata": {},
   "outputs": [
    {
     "name": "stdout",
     "output_type": "stream",
     "text": [
      "9\n"
     ]
    },
    {
     "data": {
      "image/png": "[encoded data removed]",
      "text/plain": [
       "<Figure size 432x288 with 1 Axes>"
      ]
     },
     "metadata": {
      "needs_background": "light"
     },
     "output_type": "display_data"
    },
    {
     "name": "stdout",
     "output_type": "stream",
     "text": [
      "6\n"
     ]
    },
    {
     "data": {
      "image/png": "[encoded data removed]",
      "text/plain": [
       "<Figure size 432x288 with 1 Axes>"
      ]
     },
     "metadata": {
      "needs_background": "light"
     },
     "output_type": "display_data"
    },
    {
     "name": "stdout",
     "output_type": "stream",
     "text": [
      "4\n"
     ]
    },
    {
     "data": {
      "image/png": "[encoded data removed]",
      "text/plain": [
       "<Figure size 432x288 with 1 Axes>"
      ]
     },
     "metadata": {
      "needs_background": "light"
     },
     "output_type": "display_data"
    },
    {
     "name": "stdout",
     "output_type": "stream",
     "text": [
      "5\n"
     ]
    },
    {
     "data": {
      "image/png": "[encoded data removed]",
      "text/plain": [
       "<Figure size 432x288 with 1 Axes>"
      ]
     },
     "metadata": {
      "needs_background": "light"
     },
     "output_type": "display_data"
    },
    {
     "name": "stdout",
     "output_type": "stream",
     "text": [
      "4\n"
     ]
    },
    {
     "data": {
      "image/png": "[encoded data removed]",
      "text/plain": [
       "<Figure size 432x288 with 1 Axes>"
      ]
     },
     "metadata": {
      "needs_background": "light"
     },
     "output_type": "display_data"
    },
    {
     "name": "stdout",
     "output_type": "stream",
     "text": [
      "0\n"
     ]
    },
    {
     "data": {
      "image/png": "[encoded data removed]",
      "text/plain": [
       "<Figure size 432x288 with 1 Axes>"
      ]
     },
     "metadata": {
      "needs_background": "light"
     },
     "output_type": "display_data"
    },
    {
     "name": "stdout",
     "output_type": "stream",
     "text": [
      "7\n"
     ]
    },
    {
     "data": {
      "image/png": "[encoded data removed]",
      "text/plain": [
       "<Figure size 432x288 with 1 Axes>"
      ]
     },
     "metadata": {
      "needs_background": "light"
     },
     "output_type": "display_data"
    },
    {
     "name": "stdout",
     "output_type": "stream",
     "text": [
      "4\n"
     ]
    },
    {
     "data": {
      "image/png": "[encoded data removed]",
      "text/plain": [
       "<Figure size 432x288 with 1 Axes>"
      ]
     },
     "metadata": {
      "needs_background": "light"
     },
     "output_type": "display_data"
    },
    {
     "name": "stdout",
     "output_type": "stream",
     "text": [
      "0\n"
     ]
    },
    {
     "data": {
      "image/png": "[encoded data removed]",
      "text/plain": [
       "<Figure size 432x288 with 1 Axes>"
      ]
     },
     "metadata": {
      "needs_background": "light"
     },
     "output_type": "display_data"
    },
    {
     "name": "stdout",
     "output_type": "stream",
     "text": [
      "1\n"
     ]
    },
    {
     "data": {
      "image/png": "[encoded data removed]",
      "text/plain": [
       "<Figure size 432x288 with 1 Axes>"
      ]
     },
     "metadata": {
      "needs_background": "light"
     },
     "output_type": "display_data"
    }
   ],
   "source": [
    "#View this shit\n",
    "for i in range(20,30):\n",
    "    \n",
    "    num = i\n",
    "    hi = np.array([encoded_X[num]])\n",
    "    prediction = model.predict(hi)\n",
    "    print(np.argmax(prediction))\n",
    "    plt.imshow(X_part2[num].reshape((28,28)),cmap='viridis')\n",
    "    plt.show()\n",
    "#     hello = deocder.predict(np.array([encoded_X[num]]))\n",
    "#     plt.imshow(hello.reshape((28,28)),cmap='viridis')\n",
    "#     plt.show()"
   ]
  },
  {
   "cell_type": "code",
   "execution_count": 53,
   "metadata": {},
   "outputs": [
    {
     "name": "stdout",
     "output_type": "stream",
     "text": [
      "Epoch 1/15\n",
      "10000/10000 [==============================] - 2s 207us/step - loss: 1.1228 - acc: 0.6147\n",
      "Epoch 2/15\n",
      "10000/10000 [==============================] - 1s 92us/step - loss: 0.7522 - acc: 0.7319\n",
      "Epoch 3/15\n",
      "10000/10000 [==============================] - 1s 98us/step - loss: 0.6867 - acc: 0.7534\n",
      "Epoch 4/15\n",
      "10000/10000 [==============================] - 1s 99us/step - loss: 0.6444 - acc: 0.7704\n",
      "Epoch 5/15\n",
      "10000/10000 [==============================] - 1s 89us/step - loss: 0.6212 - acc: 0.7781\n",
      "Epoch 6/15\n",
      "10000/10000 [==============================] - 1s 91us/step - loss: 0.6102 - acc: 0.7841\n",
      "Epoch 7/15\n",
      "10000/10000 [==============================] - 1s 101us/step - loss: 0.6040 - acc: 0.7830\n",
      "Epoch 8/15\n",
      "10000/10000 [==============================] - 1s 98us/step - loss: 0.5995 - acc: 0.7878\n",
      "Epoch 9/15\n",
      "10000/10000 [==============================] - 1s 93us/step - loss: 0.5892 - acc: 0.7916\n",
      "Epoch 10/15\n",
      "10000/10000 [==============================] - 1s 93us/step - loss: 0.5810 - acc: 0.7948\n",
      "Epoch 11/15\n",
      "10000/10000 [==============================] - 1s 100us/step - loss: 0.5751 - acc: 0.7937\n",
      "Epoch 12/15\n",
      "10000/10000 [==============================] - 1s 99us/step - loss: 0.5682 - acc: 0.7978\n",
      "Epoch 13/15\n",
      "10000/10000 [==============================] - 1s 93us/step - loss: 0.5702 - acc: 0.7975\n",
      "Epoch 14/15\n",
      "10000/10000 [==============================] - 1s 94us/step - loss: 0.5561 - acc: 0.8070\n",
      "Epoch 15/15\n",
      "10000/10000 [==============================] - 1s 99us/step - loss: 0.5604 - acc: 0.7986\n"
     ]
    },
    {
     "data": {
      "text/plain": [
       "<keras.callbacks.History at 0x13dab1a58>"
      ]
     },
     "execution_count": 53,
     "metadata": {},
     "output_type": "execute_result"
    }
   ],
   "source": [
    "file = open('encoded.txt', 'rb')\n",
    "testt = pickle.load(file)\n",
    "testt = np.expand_dims(testt,axis=1)\n",
    "testt = testt.reshape(10000,1,5,1)\n",
    "testt.shape\n",
    "file.close()\n",
    "\n",
    "file = open('test_encoded.txt','rb')\n",
    "trainn = pickle.load(file)\n",
    "file.close()\n",
    "trainn = np.expand_dims(trainn,axis=1)\n",
    "trainn = trainn.reshape(6000,1,5,1)\n",
    "trainn.shape\n",
    "#Begin model\n",
    "model = Sequential()\n",
    "model.add(Conv2D(filters = 5, kernel_size = (1,1),\n",
    "                 activation ='relu', input_shape = (1,5,1)))\n",
    "\n",
    "# model.add(MaxPool2D(pool_size=(1,1)))\n",
    "model.add(Dropout(0.25))\n",
    "# model.add(Conv2D(filters = 64, kernel_size = (3,3),\n",
    "#                  activation ='relu'))\n",
    "model.add(Conv2D(filters = 32, kernel_size = (1,1),\n",
    "                 activation ='relu'))\n",
    "# model.add(MaxPool2D(pool_size=(1,1), strides=(2,2)))\n",
    "model.add(Dropout(0.25))\n",
    "model.add(Flatten())\n",
    "model.add(Dense(128, activation = \"relu\"))\n",
    "# model.add(Dropout(0.5))\n",
    "model.add(Dense(10, activation = \"softmax\"))\n",
    "model.compile(optimizer = 'adam' , loss = \"categorical_crossentropy\", metrics=[\"accuracy\"])\n",
    "model.fit(testt,y_part2,\n",
    "          \n",
    "          epochs=15)"
   ]
  },
  {
   "cell_type": "code",
   "execution_count": 54,
   "metadata": {},
   "outputs": [
    {
     "name": "stdout",
     "output_type": "stream",
     "text": [
      "9\n"
     ]
    },
    {
     "data": {
      "image/png": "[encoded data removed]",
      "text/plain": [
       "<Figure size 432x288 with 1 Axes>"
      ]
     },
     "metadata": {
      "needs_background": "light"
     },
     "output_type": "display_data"
    },
    {
     "name": "stdout",
     "output_type": "stream",
     "text": [
      "6\n"
     ]
    },
    {
     "data": {
      "image/png": "[encoded data removed]",
      "text/plain": [
       "<Figure size 432x288 with 1 Axes>"
      ]
     },
     "metadata": {
      "needs_background": "light"
     },
     "output_type": "display_data"
    },
    {
     "name": "stdout",
     "output_type": "stream",
     "text": [
      "4\n"
     ]
    },
    {
     "data": {
      "image/png": "[encoded data removed]",
      "text/plain": [
       "<Figure size 432x288 with 1 Axes>"
      ]
     },
     "metadata": {
      "needs_background": "light"
     },
     "output_type": "display_data"
    },
    {
     "name": "stdout",
     "output_type": "stream",
     "text": [
      "5\n"
     ]
    },
    {
     "data": {
      "image/png": "[encoded data removed]",
      "text/plain": [
       "<Figure size 432x288 with 1 Axes>"
      ]
     },
     "metadata": {
      "needs_background": "light"
     },
     "output_type": "display_data"
    },
    {
     "name": "stdout",
     "output_type": "stream",
     "text": [
      "4\n"
     ]
    },
    {
     "data": {
      "image/png": "[encoded data removed]",
      "text/plain": [
       "<Figure size 432x288 with 1 Axes>"
      ]
     },
     "metadata": {
      "needs_background": "light"
     },
     "output_type": "display_data"
    },
    {
     "name": "stdout",
     "output_type": "stream",
     "text": [
      "0\n"
     ]
    },
    {
     "data": {
      "image/png": "[encoded data removed]",
      "text/plain": [
       "<Figure size 432x288 with 1 Axes>"
      ]
     },
     "metadata": {
      "needs_background": "light"
     },
     "output_type": "display_data"
    },
    {
     "name": "stdout",
     "output_type": "stream",
     "text": [
      "7\n"
     ]
    },
    {
     "data": {
      "image/png": "[encoded data removed]",
      "text/plain": [
       "<Figure size 432x288 with 1 Axes>"
      ]
     },
     "metadata": {
      "needs_background": "light"
     },
     "output_type": "display_data"
    },
    {
     "name": "stdout",
     "output_type": "stream",
     "text": [
      "4\n"
     ]
    },
    {
     "data": {
      "image/png": "[encoded data removed]",
      "text/plain": [
       "<Figure size 432x288 with 1 Axes>"
      ]
     },
     "metadata": {
      "needs_background": "light"
     },
     "output_type": "display_data"
    },
    {
     "name": "stdout",
     "output_type": "stream",
     "text": [
      "0\n"
     ]
    },
    {
     "data": {
      "image/png": "[encoded data removed]",
      "text/plain": [
       "<Figure size 432x288 with 1 Axes>"
      ]
     },
     "metadata": {
      "needs_background": "light"
     },
     "output_type": "display_data"
    },
    {
     "name": "stdout",
     "output_type": "stream",
     "text": [
      "1\n"
     ]
    },
    {
     "data": {
      "image/png": "[encoded data removed]",
      "text/plain": [
       "<Figure size 432x288 with 1 Axes>"
      ]
     },
     "metadata": {
      "needs_background": "light"
     },
     "output_type": "display_data"
    }
   ],
   "source": [
    "#View this shit\n",
    "for i in range(20,30):\n",
    "    \n",
    "    num = i\n",
    "    hi = np.array([testt[num]])\n",
    "    prediction = model.predict(hi)\n",
    "    print(np.argmax(prediction))\n",
    "    plt.imshow(X_part2[num].reshape((28,28)),cmap='viridis')\n",
    "    plt.show()\n",
    "#     hello = deocder.predict(np.array([encoded_X[num]]))\n",
    "#     plt.imshow(hello.reshape((28,28)),cmap='viridis')\n",
    "#     plt.show()"
   ]
  }
 ],
 "metadata": {
  "kernelspec": {
   "display_name": "Python 3",
   "language": "python",
   "name": "python3"
  },
  "language_info": {
   "codemirror_mode": {
    "name": "ipython",
    "version": 3
   },
   "file_extension": ".py",
   "mimetype": "text/x-python",
   "name": "python",
   "nbconvert_exporter": "python",
   "pygments_lexer": "ipython3",
   "version": "3.6.4"
  }
 },
 "nbformat": 4,
 "nbformat_minor": 2
}
