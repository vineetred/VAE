{
 "cells": [
  {
   "cell_type": "code",
   "execution_count": 2,
   "metadata": {},
   "outputs": [
    {
     "name": "stderr",
     "output_type": "stream",
     "text": [
      "Using TensorFlow backend.\n",
      "/Library/Frameworks/Python.framework/Versions/3.6/lib/python3.6/importlib/_bootstrap.py:219: RuntimeWarning: compiletime version 3.5 of module 'tensorflow.python.framework.fast_tensor_util' does not match runtime version 3.6\n",
      "  return f(*args, **kwds)\n"
     ]
    }
   ],
   "source": [
    "#BEGIN THE NORMAL MNIST CLASSIFICTION\n",
    "# dependencies (numpy, matplotlib, and keras)\n",
    "import numpy as np\n",
    "import matplotlib.pyplot as plt\n",
    "from scipy.stats import norm\n",
    "from keras.layers import Input, Dense, Lambda, MaxPool2D, Conv2D,Conv1D, Flatten\n",
    "from keras.models import Model,Sequential\n",
    "from keras import backend as K\n",
    "from keras import objectives\n",
    "from keras.layers.core import Dense, Dropout, Activation\n",
    "from keras.datasets import mnist\n",
    "import tensorflow as tf\n",
    "from sklearn.model_selection import train_test_split\n",
    "from keras.utils import np_utils\n",
    "import pickle\n"
   ]
  },
  {
   "cell_type": "code",
   "execution_count": 3,
   "metadata": {},
   "outputs": [
    {
     "data": {
      "text/plain": [
       "(54000, 28, 28, 1)"
      ]
     },
     "execution_count": 3,
     "metadata": {},
     "output_type": "execute_result"
    }
   ],
   "source": [
    "#Hyperparaters\n",
    "features = 2\n",
    "batch_size = 100\n",
    "epochs = 5\n",
    "\n",
    "#Prep data\n",
    "(x_train, y_train), (x_test, y_test) = mnist.load_data()\n",
    "\n",
    "x_train = x_train.astype('float32') / 255.\n",
    "x_test = x_test.astype('float32') / 255.\n",
    "\n",
    "x_train = x_train.reshape(-1,28,28,1)\n",
    "x_test = x_test.reshape(-1,28,28,1)\n",
    "\n",
    "y_train = np_utils.to_categorical(y_train, 10)\n",
    "y_test = np_utils.to_categorical(y_test,10)\n",
    "\n",
    "X_part1, X_part3, y_part1, y_part3 = train_test_split(x_train, y_train, test_size=0.1)\n",
    "X_part1.shape"
   ]
  },
  {
   "cell_type": "code",
   "execution_count": 34,
   "metadata": {},
   "outputs": [],
   "source": [
    "#Begin model\n",
    "model = Sequential()\n",
    "model.add(Conv2D(filters = 32, kernel_size = (5,5),\n",
    "                 activation ='relu', input_shape = (28,28,1)))\n",
    "# model.add(Conv2D(filters = 32, kernel_size = (5,5),\n",
    "#                  activation ='relu'))\n",
    "model.add(MaxPool2D(pool_size=(2,2)))\n",
    "model.add(Dropout(0.25))\n",
    "# model.add(Conv2D(filters = 64, kernel_size = (3,3),\n",
    "#                  activation ='relu'))\n",
    "model.add(Conv2D(filters = 64, kernel_size = (3,3),\n",
    "                 activation ='relu'))\n",
    "model.add(MaxPool2D(pool_size=(2,2), strides=(2,2)))\n",
    "model.add(Dropout(0.25))\n",
    "model.add(Flatten())\n",
    "model.add(Dense(256, activation = \"relu\"))\n",
    "model.add(Dropout(0.5))\n",
    "model.add(Dense(10, activation = \"softmax\"))"
   ]
  },
  {
   "cell_type": "code",
   "execution_count": 35,
   "metadata": {},
   "outputs": [
    {
     "name": "stdout",
     "output_type": "stream",
     "text": [
      "Train on 54000 samples, validate on 6000 samples\n",
      "Epoch 1/5\n",
      "54000/54000 [==============================] - 53s 982us/step - loss: 0.2472 - acc: 0.9227 - val_loss: 0.0571 - val_acc: 0.9818\n",
      "Epoch 2/5\n",
      "54000/54000 [==============================] - 53s 987us/step - loss: 0.0819 - acc: 0.9744 - val_loss: 0.0457 - val_acc: 0.9857\n",
      "Epoch 3/5\n",
      "54000/54000 [==============================] - 58s 1ms/step - loss: 0.0610 - acc: 0.9814 - val_loss: 0.0361 - val_acc: 0.9888\n",
      "Epoch 4/5\n",
      "54000/54000 [==============================] - 53s 979us/step - loss: 0.0530 - acc: 0.9841 - val_loss: 0.0339 - val_acc: 0.9897\n",
      "Epoch 5/5\n",
      "54000/54000 [==============================] - 52s 955us/step - loss: 0.0478 - acc: 0.9862 - val_loss: 0.0315 - val_acc: 0.9918\n"
     ]
    },
    {
     "data": {
      "text/plain": [
       "<keras.callbacks.History at 0x1246fdf28>"
      ]
     },
     "execution_count": 35,
     "metadata": {},
     "output_type": "execute_result"
    }
   ],
   "source": [
    "model.compile(optimizer = 'rmsprop' , loss = \"categorical_crossentropy\", metrics=[\"accuracy\"])\n",
    "model.fit(X_part1,y_part1,\n",
    "          batch_size=batch_size,\n",
    "          epochs=epochs,\n",
    "          validation_data = (X_part3,y_part3))"
   ]
  },
  {
   "cell_type": "code",
   "execution_count": 7,
   "metadata": {},
   "outputs": [
    {
     "data": {
      "text/plain": [
       "(54000, 784)"
      ]
     },
     "execution_count": 7,
     "metadata": {},
     "output_type": "execute_result"
    }
   ],
   "source": [
    "x_train = x_train.reshape((len(x_train), np.prod(x_train.shape[1:])))\n",
    "x_test = x_test.reshape((len(x_test), np.prod(x_test.shape[1:])))\n",
    "X_part1, X_part3, y_part1, y_part3 = train_test_split(x_train, y_train, test_size=0.1)\n",
    "X_part1.shape"
   ]
  },
  {
   "cell_type": "code",
   "execution_count": 10,
   "metadata": {},
   "outputs": [
    {
     "name": "stdout",
     "output_type": "stream",
     "text": [
      "_________________________________________________________________\n",
      "Layer (type)                 Output Shape              Param #   \n",
      "=================================================================\n",
      "dense_13 (Dense)             (None, 32)                25120     \n",
      "_________________________________________________________________\n",
      "dense_14 (Dense)             (None, 64)                2112      \n",
      "_________________________________________________________________\n",
      "dropout_4 (Dropout)          (None, 64)                0         \n",
      "_________________________________________________________________\n",
      "dense_15 (Dense)             (None, 32)                2080      \n",
      "_________________________________________________________________\n",
      "dense_16 (Dense)             (None, 10)                330       \n",
      "=================================================================\n",
      "Total params: 29,642\n",
      "Trainable params: 29,642\n",
      "Non-trainable params: 0\n",
      "_________________________________________________________________\n",
      "Train on 54000 samples, validate on 6000 samples\n",
      "Epoch 1/5\n",
      "54000/54000 [==============================] - 2s 39us/step - loss: 0.5273 - acc: 0.8421 - val_loss: 0.2635 - val_acc: 0.9230\n",
      "Epoch 2/5\n",
      "54000/54000 [==============================] - 2s 28us/step - loss: 0.2517 - acc: 0.9262 - val_loss: 0.1974 - val_acc: 0.9457\n",
      "Epoch 3/5\n",
      "54000/54000 [==============================] - 2s 30us/step - loss: 0.1991 - acc: 0.9412 - val_loss: 0.1676 - val_acc: 0.9527\n",
      "Epoch 4/5\n",
      "54000/54000 [==============================] - 2s 29us/step - loss: 0.1697 - acc: 0.9499 - val_loss: 0.1687 - val_acc: 0.9515\n",
      "Epoch 5/5\n",
      "54000/54000 [==============================] - 2s 29us/step - loss: 0.1498 - acc: 0.9558 - val_loss: 0.1539 - val_acc: 0.9575\n"
     ]
    }
   ],
   "source": [
    "#BEGIN FFNN\n",
    "model = Sequential()\n",
    "model.add(Dense(32, input_shape=(784,), activation = 'relu'))\n",
    "model.add(Dense(64, activation = 'relu'))\n",
    "model.add(Dropout(0.3))\n",
    "model.add(Dense(32, activation = 'relu'))\n",
    "model.add(Dense(10, activation = 'softmax'))\n",
    "model.summary()\n",
    "\n",
    "model.compile(optimizer = 'rmsprop' , loss = \"categorical_crossentropy\", metrics=[\"accuracy\"])\n",
    "history = model.fit(X_part1,y_part1,\n",
    "          batch_size=batch_size,\n",
    "          epochs=epochs,\n",
    "          validation_data = (X_part3,y_part3))"
   ]
  },
  {
   "cell_type": "code",
   "execution_count": null,
   "metadata": {},
   "outputs": [],
   "source": []
  }
 ],
 "metadata": {
  "kernelspec": {
   "display_name": "Python 3",
   "language": "python",
   "name": "python3"
  },
  "language_info": {
   "codemirror_mode": {
    "name": "ipython",
    "version": 3
   },
   "file_extension": ".py",
   "mimetype": "text/x-python",
   "name": "python",
   "nbconvert_exporter": "python",
   "pygments_lexer": "ipython3",
   "version": "3.6.4"
  }
 },
 "nbformat": 4,
 "nbformat_minor": 2
}
