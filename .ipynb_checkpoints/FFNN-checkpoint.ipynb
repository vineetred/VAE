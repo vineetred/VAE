{
 "cells": [
  {
   "cell_type": "code",
   "execution_count": 2,
   "metadata": {},
   "outputs": [
    {
     "name": "stderr",
     "output_type": "stream",
     "text": [
      "Using TensorFlow backend.\n",
      "/Library/Frameworks/Python.framework/Versions/3.6/lib/python3.6/importlib/_bootstrap.py:219: RuntimeWarning: compiletime version 3.5 of module 'tensorflow.python.framework.fast_tensor_util' does not match runtime version 3.6\n",
      "  return f(*args, **kwds)\n"
     ]
    }
   ],
   "source": [
    "# dependencies (numpy, matplotlib, and keras)\n",
    "import numpy as np\n",
    "import matplotlib.pyplot as plt\n",
    "from scipy.stats import norm\n",
    "from keras.layers import Input, Dense, Lambda, MaxPooling2D, Conv2D,Conv1D, Flatten, MaxPool2D\n",
    "from keras.models import Model,Sequential\n",
    "from keras import backend as K\n",
    "from keras import objectives\n",
    "from keras.layers.core import Dense, Dropout, Activation\n",
    "from keras.datasets import mnist\n",
    "import tensorflow as tf\n",
    "from sklearn.model_selection import train_test_split\n",
    "from keras.utils import np_utils\n",
    "import pickle"
   ]
  },
  {
   "cell_type": "code",
   "execution_count": 12,
   "metadata": {},
   "outputs": [],
   "source": [
    "#PREPARING THE DATA\n",
    "\n",
    "(x_train, y_train), (x_test, y_test) = mnist.load_data()\n",
    "x_train = x_train.astype('float32') / 255.\n",
    "x_test = x_test.astype('float32') / 255.\n",
    "x_train = x_train.reshape((len(x_train), np.prod(x_train.shape[1:])))\n",
    "x_test = x_test.reshape((len(x_test), np.prod(x_test.shape[1:])))\n",
    "Part2_PLOT1 = x_test\n",
    "\n",
    "#Making the target categorical\n",
    "y_train = np_utils.to_categorical(y_train, 10)\n",
    "y_test = np_utils.to_categorical(y_test,10)\n",
    "\n",
    "#Splitting the data into three partitions - 70, 20 and 10\n",
    "X_part1, X_part3, y_part1, y_part3 = train_test_split(x_train, y_train, test_size=0.1)\n",
    "X_part2 = x_test\n",
    "y_part2 = y_test\n"
   ]
  },
  {
   "cell_type": "code",
   "execution_count": 14,
   "metadata": {},
   "outputs": [
    {
     "data": {
      "text/plain": [
       "5"
      ]
     },
     "execution_count": 14,
     "metadata": {},
     "output_type": "execute_result"
    }
   ],
   "source": [
    "#Opening the encoded Outputs\n",
    "file = open('encoded.txt', 'rb')\n",
    "encoded_X = pickle.load(file)\n",
    "file.close()\n",
    "file = open('test_encoded.txt', 'rb')\n",
    "test_encoded_X =  pickle.load(file)\n",
    "file.close()\n",
    "\n",
    "#Hyperparameters\n",
    "features = encoded_X.shape[1]\n",
    "batch_size = 100\n",
    "features"
   ]
  },
  {
   "cell_type": "code",
   "execution_count": 26,
   "metadata": {},
   "outputs": [
    {
     "name": "stdout",
     "output_type": "stream",
     "text": [
      "_________________________________________________________________\n",
      "Layer (type)                 Output Shape              Param #   \n",
      "=================================================================\n",
      "dense_35 (Dense)             (None, 5)                 30        \n",
      "_________________________________________________________________\n",
      "dropout_15 (Dropout)         (None, 5)                 0         \n",
      "_________________________________________________________________\n",
      "dense_36 (Dense)             (None, 10)                60        \n",
      "=================================================================\n",
      "Total params: 90\n",
      "Trainable params: 90\n",
      "Non-trainable params: 0\n",
      "_________________________________________________________________\n",
      "Train on 10000 samples, validate on 6000 samples\n",
      "Epoch 1/20\n",
      "10000/10000 [==============================] - 1s 99us/step - loss: 2.4188 - acc: 0.1600 - val_loss: 2.4403 - val_acc: 0.0960\n",
      "Epoch 2/20\n",
      "10000/10000 [==============================] - 0s 23us/step - loss: 2.1074 - acc: 0.2143 - val_loss: 2.4665 - val_acc: 0.1010\n",
      "Epoch 3/20\n",
      "10000/10000 [==============================] - 0s 23us/step - loss: 1.9203 - acc: 0.2939 - val_loss: 2.5548 - val_acc: 0.1038\n",
      "Epoch 4/20\n",
      "10000/10000 [==============================] - 0s 22us/step - loss: 1.7949 - acc: 0.3358 - val_loss: 2.6810 - val_acc: 0.1055\n",
      "Epoch 5/20\n",
      "10000/10000 [==============================] - 0s 32us/step - loss: 1.7056 - acc: 0.3716 - val_loss: 2.8309 - val_acc: 0.1060\n",
      "Epoch 6/20\n",
      "10000/10000 [==============================] - 0s 24us/step - loss: 1.6260 - acc: 0.4152 - val_loss: 2.9947 - val_acc: 0.1058\n",
      "Epoch 7/20\n",
      "10000/10000 [==============================] - 0s 24us/step - loss: 1.5614 - acc: 0.4432 - val_loss: 3.1482 - val_acc: 0.1030\n",
      "Epoch 8/20\n",
      "10000/10000 [==============================] - 0s 31us/step - loss: 1.5231 - acc: 0.4598 - val_loss: 3.2973 - val_acc: 0.1040\n",
      "Epoch 9/20\n",
      "10000/10000 [==============================] - 0s 23us/step - loss: 1.4690 - acc: 0.4798 - val_loss: 3.4420 - val_acc: 0.1050\n",
      "Epoch 10/20\n",
      "10000/10000 [==============================] - 0s 27us/step - loss: 1.4570 - acc: 0.4812 - val_loss: 3.5747 - val_acc: 0.1052\n",
      "Epoch 11/20\n",
      "10000/10000 [==============================] - 0s 28us/step - loss: 1.4295 - acc: 0.4872 - val_loss: 3.6969 - val_acc: 0.1050\n",
      "Epoch 12/20\n",
      "10000/10000 [==============================] - 0s 23us/step - loss: 1.4065 - acc: 0.4972 - val_loss: 3.8053 - val_acc: 0.1058\n",
      "Epoch 13/20\n",
      "10000/10000 [==============================] - 0s 29us/step - loss: 1.3849 - acc: 0.5006 - val_loss: 3.9213 - val_acc: 0.1073\n",
      "Epoch 14/20\n",
      "10000/10000 [==============================] - 0s 26us/step - loss: 1.3775 - acc: 0.5046 - val_loss: 4.0100 - val_acc: 0.1078\n",
      "Epoch 15/20\n",
      "10000/10000 [==============================] - 0s 23us/step - loss: 1.3637 - acc: 0.5141 - val_loss: 4.0921 - val_acc: 0.1082\n",
      "Epoch 16/20\n",
      "10000/10000 [==============================] - 0s 25us/step - loss: 1.3539 - acc: 0.5162 - val_loss: 4.1763 - val_acc: 0.1090\n",
      "Epoch 17/20\n",
      "10000/10000 [==============================] - 0s 30us/step - loss: 1.3650 - acc: 0.5158 - val_loss: 4.2538 - val_acc: 0.1090\n",
      "Epoch 18/20\n",
      "10000/10000 [==============================] - 0s 23us/step - loss: 1.3462 - acc: 0.5175 - val_loss: 4.3165 - val_acc: 0.1093\n",
      "Epoch 19/20\n",
      "10000/10000 [==============================] - 0s 31us/step - loss: 1.3367 - acc: 0.5203 - val_loss: 4.3778 - val_acc: 0.1097\n",
      "Epoch 20/20\n",
      "10000/10000 [==============================] - 0s 29us/step - loss: 1.3401 - acc: 0.5176 - val_loss: 4.4299 - val_acc: 0.1085\n"
     ]
    },
    {
     "data": {
      "text/plain": [
       "<keras.callbacks.History at 0x13e74c208>"
      ]
     },
     "execution_count": 26,
     "metadata": {},
     "output_type": "execute_result"
    }
   ],
   "source": [
    "#BEGIN FFNN\n",
    "model = Sequential()\n",
    "model.add(Dense(5, input_shape=(features,), activation = 'relu'))\n",
    "# model.add(Dropout(0.2))\n",
    "# model.add(Dense(230, activation = 'relu'))\n",
    "# model.add(Dense(512, activation = 'relu'))\n",
    "model.add(Dropout(0.3))\n",
    "model.add(Dense(10, activation = 'softmax'))\n",
    "model.summary()\n",
    "model.compile(loss='categorical_crossentropy', metrics=['accuracy'], optimizer='adadelta')\n",
    "\n",
    "model.fit(encoded_X, y_part2,\n",
    "          batch_size=batch_size,\n",
    "          epochs=20,\n",
    "          validation_data=(test_encoded_X,y_part3))"
   ]
  },
  {
   "cell_type": "code",
   "execution_count": 22,
   "metadata": {},
   "outputs": [
    {
     "name": "stdout",
     "output_type": "stream",
     "text": [
      "9\n"
     ]
    },
    {
     "data": {
      "image/png": "[encoded data removed]",
      "text/plain": [
       "<Figure size 432x288 with 1 Axes>"
      ]
     },
     "metadata": {
      "needs_background": "light"
     },
     "output_type": "display_data"
    },
    {
     "name": "stdout",
     "output_type": "stream",
     "text": [
      "6\n"
     ]
    },
    {
     "data": {
      "image/png": "[encoded data removed]",
      "text/plain": [
       "<Figure size 432x288 with 1 Axes>"
      ]
     },
     "metadata": {
      "needs_background": "light"
     },
     "output_type": "display_data"
    },
    {
     "name": "stdout",
     "output_type": "stream",
     "text": [
      "4\n"
     ]
    },
    {
     "data": {
      "image/png": "[encoded data removed]",
      "text/plain": [
       "<Figure size 432x288 with 1 Axes>"
      ]
     },
     "metadata": {
      "needs_background": "light"
     },
     "output_type": "display_data"
    },
    {
     "name": "stdout",
     "output_type": "stream",
     "text": [
      "5\n"
     ]
    },
    {
     "data": {
      "image/png": "[encoded data removed]",
      "text/plain": [
       "<Figure size 432x288 with 1 Axes>"
      ]
     },
     "metadata": {
      "needs_background": "light"
     },
     "output_type": "display_data"
    },
    {
     "name": "stdout",
     "output_type": "stream",
     "text": [
      "4\n"
     ]
    },
    {
     "data": {
      "image/png": "[encoded data removed]",
      "text/plain": [
       "<Figure size 432x288 with 1 Axes>"
      ]
     },
     "metadata": {
      "needs_background": "light"
     },
     "output_type": "display_data"
    },
    {
     "name": "stdout",
     "output_type": "stream",
     "text": [
      "0\n"
     ]
    },
    {
     "data": {
      "image/png": "[encoded data removed]",
      "text/plain": [
       "<Figure size 432x288 with 1 Axes>"
      ]
     },
     "metadata": {
      "needs_background": "light"
     },
     "output_type": "display_data"
    },
    {
     "name": "stdout",
     "output_type": "stream",
     "text": [
      "7\n"
     ]
    },
    {
     "data": {
      "image/png": "[encoded data removed]",
      "text/plain": [
       "<Figure size 432x288 with 1 Axes>"
      ]
     },
     "metadata": {
      "needs_background": "light"
     },
     "output_type": "display_data"
    },
    {
     "name": "stdout",
     "output_type": "stream",
     "text": [
      "4\n"
     ]
    },
    {
     "data": {
      "image/png": "[encoded data removed]",
      "text/plain": [
       "<Figure size 432x288 with 1 Axes>"
      ]
     },
     "metadata": {
      "needs_background": "light"
     },
     "output_type": "display_data"
    },
    {
     "name": "stdout",
     "output_type": "stream",
     "text": [
      "0\n"
     ]
    },
    {
     "data": {
      "image/png": "[encoded data removed]",
      "text/plain": [
       "<Figure size 432x288 with 1 Axes>"
      ]
     },
     "metadata": {
      "needs_background": "light"
     },
     "output_type": "display_data"
    },
    {
     "name": "stdout",
     "output_type": "stream",
     "text": [
      "1\n"
     ]
    },
    {
     "data": {
      "image/png": "[encoded data removed]",
      "text/plain": [
       "<Figure size 432x288 with 1 Axes>"
      ]
     },
     "metadata": {
      "needs_background": "light"
     },
     "output_type": "display_data"
    }
   ],
   "source": [
    "#View this shit\n",
    "for i in range(20,30):\n",
    "    \n",
    "    num = i\n",
    "    hi = np.array([encoded_X[num]])\n",
    "    prediction = model.predict(hi)\n",
    "    print(np.argmax(prediction))\n",
    "    plt.imshow(X_part2[num].reshape((28,28)),cmap='viridis')\n",
    "    plt.show()\n",
    "#     hello = deocder.predict(np.array([encoded_X[num]]))\n",
    "#     plt.imshow(hello.reshape((28,28)),cmap='viridis')\n",
    "#     plt.show()"
   ]
  },
  {
   "cell_type": "code",
   "execution_count": 38,
   "metadata": {},
   "outputs": [
    {
     "name": "stdout",
     "output_type": "stream",
     "text": [
      "Epoch 1/220\n",
      "10000/10000 [==============================] - 1s 124us/step - loss: 1.4796 - acc: 0.4850\n",
      "Epoch 2/220\n",
      "10000/10000 [==============================] - 0s 32us/step - loss: 0.9587 - acc: 0.6687\n",
      "Epoch 3/220\n",
      "10000/10000 [==============================] - 0s 32us/step - loss: 0.8041 - acc: 0.7163\n",
      "Epoch 4/220\n",
      "10000/10000 [==============================] - 0s 41us/step - loss: 0.7407 - acc: 0.7380\n",
      "Epoch 5/220\n",
      "10000/10000 [==============================] - 0s 37us/step - loss: 0.6998 - acc: 0.7565\n",
      "Epoch 6/220\n",
      "10000/10000 [==============================] - 0s 35us/step - loss: 0.6864 - acc: 0.7606\n",
      "Epoch 7/220\n",
      "10000/10000 [==============================] - 0s 34us/step - loss: 0.6514 - acc: 0.7683\n",
      "Epoch 8/220\n",
      "10000/10000 [==============================] - 0s 32us/step - loss: 0.6408 - acc: 0.7750\n",
      "Epoch 9/220\n",
      "10000/10000 [==============================] - 0s 31us/step - loss: 0.6290 - acc: 0.7794\n",
      "Epoch 10/220\n",
      "10000/10000 [==============================] - 0s 32us/step - loss: 0.6344 - acc: 0.7767\n",
      "Epoch 11/220\n",
      "10000/10000 [==============================] - 0s 32us/step - loss: 0.6133 - acc: 0.7831\n",
      "Epoch 12/220\n",
      "10000/10000 [==============================] - 0s 41us/step - loss: 0.6258 - acc: 0.7795\n",
      "Epoch 13/220\n",
      "10000/10000 [==============================] - 0s 38us/step - loss: 0.6055 - acc: 0.7865\n",
      "Epoch 14/220\n",
      "10000/10000 [==============================] - 0s 34us/step - loss: 0.6033 - acc: 0.7888\n",
      "Epoch 15/220\n",
      "10000/10000 [==============================] - 0s 31us/step - loss: 0.5984 - acc: 0.7903\n",
      "Epoch 16/220\n",
      "10000/10000 [==============================] - 0s 32us/step - loss: 0.5978 - acc: 0.7927\n",
      "Epoch 17/220\n",
      "10000/10000 [==============================] - 0s 40us/step - loss: 0.5928 - acc: 0.7871\n",
      "Epoch 18/220\n",
      "10000/10000 [==============================] - 0s 34us/step - loss: 0.5899 - acc: 0.7909\n",
      "Epoch 19/220\n",
      "10000/10000 [==============================] - 0s 33us/step - loss: 0.5789 - acc: 0.7923\n",
      "Epoch 20/220\n",
      "10000/10000 [==============================] - 0s 34us/step - loss: 0.5807 - acc: 0.8027\n",
      "Epoch 21/220\n",
      "10000/10000 [==============================] - 0s 43us/step - loss: 0.5851 - acc: 0.7879\n",
      "Epoch 22/220\n",
      "10000/10000 [==============================] - 0s 34us/step - loss: 0.5786 - acc: 0.7981\n",
      "Epoch 23/220\n",
      "10000/10000 [==============================] - 0s 36us/step - loss: 0.5779 - acc: 0.7937\n",
      "Epoch 24/220\n",
      "10000/10000 [==============================] - 0s 37us/step - loss: 0.5729 - acc: 0.7998\n",
      "Epoch 25/220\n",
      "10000/10000 [==============================] - 0s 36us/step - loss: 0.5772 - acc: 0.7945\n",
      "Epoch 26/220\n",
      "10000/10000 [==============================] - 0s 35us/step - loss: 0.5742 - acc: 0.7978\n",
      "Epoch 27/220\n",
      "10000/10000 [==============================] - 0s 33us/step - loss: 0.5658 - acc: 0.7995\n",
      "Epoch 28/220\n",
      "10000/10000 [==============================] - 0s 40us/step - loss: 0.5727 - acc: 0.7931\n",
      "Epoch 29/220\n",
      "10000/10000 [==============================] - 0s 34us/step - loss: 0.5668 - acc: 0.8010\n",
      "Epoch 30/220\n",
      "10000/10000 [==============================] - 0s 37us/step - loss: 0.5584 - acc: 0.7991\n",
      "Epoch 31/220\n",
      "10000/10000 [==============================] - 0s 38us/step - loss: 0.5664 - acc: 0.7998\n",
      "Epoch 32/220\n",
      " 5900/10000 [================>.............] - ETA: 0s - loss: 0.5640 - acc: 0.8005"
     ]
    },
    {
     "ename": "KeyboardInterrupt",
     "evalue": "",
     "output_type": "error",
     "traceback": [
      "\u001b[0;31m---------------------------------------------------------------------------\u001b[0m",
      "\u001b[0;31mKeyboardInterrupt\u001b[0m                         Traceback (most recent call last)",
      "\u001b[0;32m<ipython-input-38-bbeef7a504ed>\u001b[0m in \u001b[0;36m<module>\u001b[0;34m\u001b[0m\n\u001b[1;32m     24\u001b[0m model.fit(testt,y_part2,\n\u001b[1;32m     25\u001b[0m           \u001b[0mbatch_size\u001b[0m\u001b[0;34m=\u001b[0m\u001b[0mbatch_size\u001b[0m\u001b[0;34m,\u001b[0m\u001b[0;34m\u001b[0m\u001b[0m\n\u001b[0;32m---> 26\u001b[0;31m           epochs=220)\n\u001b[0m",
      "\u001b[0;32m/Library/Frameworks/Python.framework/Versions/3.6/lib/python3.6/site-packages/keras/engine/training.py\u001b[0m in \u001b[0;36mfit\u001b[0;34m(self, x, y, batch_size, epochs, verbose, callbacks, validation_split, validation_data, shuffle, class_weight, sample_weight, initial_epoch, steps_per_epoch, validation_steps, **kwargs)\u001b[0m\n\u001b[1;32m   1037\u001b[0m                                         \u001b[0minitial_epoch\u001b[0m\u001b[0;34m=\u001b[0m\u001b[0minitial_epoch\u001b[0m\u001b[0;34m,\u001b[0m\u001b[0;34m\u001b[0m\u001b[0m\n\u001b[1;32m   1038\u001b[0m                                         \u001b[0msteps_per_epoch\u001b[0m\u001b[0;34m=\u001b[0m\u001b[0msteps_per_epoch\u001b[0m\u001b[0;34m,\u001b[0m\u001b[0;34m\u001b[0m\u001b[0m\n\u001b[0;32m-> 1039\u001b[0;31m                                         validation_steps=validation_steps)\n\u001b[0m\u001b[1;32m   1040\u001b[0m \u001b[0;34m\u001b[0m\u001b[0m\n\u001b[1;32m   1041\u001b[0m     def evaluate(self, x=None, y=None,\n",
      "\u001b[0;32m/Library/Frameworks/Python.framework/Versions/3.6/lib/python3.6/site-packages/keras/engine/training_arrays.py\u001b[0m in \u001b[0;36mfit_loop\u001b[0;34m(model, f, ins, out_labels, batch_size, epochs, verbose, callbacks, val_f, val_ins, shuffle, callback_metrics, initial_epoch, steps_per_epoch, validation_steps)\u001b[0m\n\u001b[1;32m    197\u001b[0m                     \u001b[0mins_batch\u001b[0m\u001b[0;34m[\u001b[0m\u001b[0mi\u001b[0m\u001b[0;34m]\u001b[0m \u001b[0;34m=\u001b[0m \u001b[0mins_batch\u001b[0m\u001b[0;34m[\u001b[0m\u001b[0mi\u001b[0m\u001b[0;34m]\u001b[0m\u001b[0;34m.\u001b[0m\u001b[0mtoarray\u001b[0m\u001b[0;34m(\u001b[0m\u001b[0;34m)\u001b[0m\u001b[0;34m\u001b[0m\u001b[0m\n\u001b[1;32m    198\u001b[0m \u001b[0;34m\u001b[0m\u001b[0m\n\u001b[0;32m--> 199\u001b[0;31m                 \u001b[0mouts\u001b[0m \u001b[0;34m=\u001b[0m \u001b[0mf\u001b[0m\u001b[0;34m(\u001b[0m\u001b[0mins_batch\u001b[0m\u001b[0;34m)\u001b[0m\u001b[0;34m\u001b[0m\u001b[0m\n\u001b[0m\u001b[1;32m    200\u001b[0m                 \u001b[0mouts\u001b[0m \u001b[0;34m=\u001b[0m \u001b[0mto_list\u001b[0m\u001b[0;34m(\u001b[0m\u001b[0mouts\u001b[0m\u001b[0;34m)\u001b[0m\u001b[0;34m\u001b[0m\u001b[0m\n\u001b[1;32m    201\u001b[0m                 \u001b[0;32mfor\u001b[0m \u001b[0ml\u001b[0m\u001b[0;34m,\u001b[0m \u001b[0mo\u001b[0m \u001b[0;32min\u001b[0m \u001b[0mzip\u001b[0m\u001b[0;34m(\u001b[0m\u001b[0mout_labels\u001b[0m\u001b[0;34m,\u001b[0m \u001b[0mouts\u001b[0m\u001b[0;34m)\u001b[0m\u001b[0;34m:\u001b[0m\u001b[0;34m\u001b[0m\u001b[0m\n",
      "\u001b[0;32m/Library/Frameworks/Python.framework/Versions/3.6/lib/python3.6/site-packages/keras/backend/tensorflow_backend.py\u001b[0m in \u001b[0;36m__call__\u001b[0;34m(self, inputs)\u001b[0m\n\u001b[1;32m   2713\u001b[0m                 \u001b[0;32mreturn\u001b[0m \u001b[0mself\u001b[0m\u001b[0;34m.\u001b[0m\u001b[0m_legacy_call\u001b[0m\u001b[0;34m(\u001b[0m\u001b[0minputs\u001b[0m\u001b[0;34m)\u001b[0m\u001b[0;34m\u001b[0m\u001b[0m\n\u001b[1;32m   2714\u001b[0m \u001b[0;34m\u001b[0m\u001b[0m\n\u001b[0;32m-> 2715\u001b[0;31m             \u001b[0;32mreturn\u001b[0m \u001b[0mself\u001b[0m\u001b[0;34m.\u001b[0m\u001b[0m_call\u001b[0m\u001b[0;34m(\u001b[0m\u001b[0minputs\u001b[0m\u001b[0;34m)\u001b[0m\u001b[0;34m\u001b[0m\u001b[0m\n\u001b[0m\u001b[1;32m   2716\u001b[0m         \u001b[0;32melse\u001b[0m\u001b[0;34m:\u001b[0m\u001b[0;34m\u001b[0m\u001b[0m\n\u001b[1;32m   2717\u001b[0m             \u001b[0;32mif\u001b[0m \u001b[0mpy_any\u001b[0m\u001b[0;34m(\u001b[0m\u001b[0mis_tensor\u001b[0m\u001b[0;34m(\u001b[0m\u001b[0mx\u001b[0m\u001b[0;34m)\u001b[0m \u001b[0;32mfor\u001b[0m \u001b[0mx\u001b[0m \u001b[0;32min\u001b[0m \u001b[0minputs\u001b[0m\u001b[0;34m)\u001b[0m\u001b[0;34m:\u001b[0m\u001b[0;34m\u001b[0m\u001b[0m\n",
      "\u001b[0;32m/Library/Frameworks/Python.framework/Versions/3.6/lib/python3.6/site-packages/keras/backend/tensorflow_backend.py\u001b[0m in \u001b[0;36m_call\u001b[0;34m(self, inputs)\u001b[0m\n\u001b[1;32m   2673\u001b[0m             \u001b[0mfetched\u001b[0m \u001b[0;34m=\u001b[0m \u001b[0mself\u001b[0m\u001b[0;34m.\u001b[0m\u001b[0m_callable_fn\u001b[0m\u001b[0;34m(\u001b[0m\u001b[0;34m*\u001b[0m\u001b[0marray_vals\u001b[0m\u001b[0;34m,\u001b[0m \u001b[0mrun_metadata\u001b[0m\u001b[0;34m=\u001b[0m\u001b[0mself\u001b[0m\u001b[0;34m.\u001b[0m\u001b[0mrun_metadata\u001b[0m\u001b[0;34m)\u001b[0m\u001b[0;34m\u001b[0m\u001b[0m\n\u001b[1;32m   2674\u001b[0m         \u001b[0;32melse\u001b[0m\u001b[0;34m:\u001b[0m\u001b[0;34m\u001b[0m\u001b[0m\n\u001b[0;32m-> 2675\u001b[0;31m             \u001b[0mfetched\u001b[0m \u001b[0;34m=\u001b[0m \u001b[0mself\u001b[0m\u001b[0;34m.\u001b[0m\u001b[0m_callable_fn\u001b[0m\u001b[0;34m(\u001b[0m\u001b[0;34m*\u001b[0m\u001b[0marray_vals\u001b[0m\u001b[0;34m)\u001b[0m\u001b[0;34m\u001b[0m\u001b[0m\n\u001b[0m\u001b[1;32m   2676\u001b[0m         \u001b[0;32mreturn\u001b[0m \u001b[0mfetched\u001b[0m\u001b[0;34m[\u001b[0m\u001b[0;34m:\u001b[0m\u001b[0mlen\u001b[0m\u001b[0;34m(\u001b[0m\u001b[0mself\u001b[0m\u001b[0;34m.\u001b[0m\u001b[0moutputs\u001b[0m\u001b[0;34m)\u001b[0m\u001b[0;34m]\u001b[0m\u001b[0;34m\u001b[0m\u001b[0m\n\u001b[1;32m   2677\u001b[0m \u001b[0;34m\u001b[0m\u001b[0m\n",
      "\u001b[0;32m/Library/Frameworks/Python.framework/Versions/3.6/lib/python3.6/site-packages/tensorflow/python/client/session.py\u001b[0m in \u001b[0;36m__call__\u001b[0;34m(self, *args, **kwargs)\u001b[0m\n\u001b[1;32m   1380\u001b[0m           ret = tf_session.TF_SessionRunCallable(\n\u001b[1;32m   1381\u001b[0m               \u001b[0mself\u001b[0m\u001b[0;34m.\u001b[0m\u001b[0m_session\u001b[0m\u001b[0;34m.\u001b[0m\u001b[0m_session\u001b[0m\u001b[0;34m,\u001b[0m \u001b[0mself\u001b[0m\u001b[0;34m.\u001b[0m\u001b[0m_handle\u001b[0m\u001b[0;34m,\u001b[0m \u001b[0margs\u001b[0m\u001b[0;34m,\u001b[0m \u001b[0mstatus\u001b[0m\u001b[0;34m,\u001b[0m\u001b[0;34m\u001b[0m\u001b[0m\n\u001b[0;32m-> 1382\u001b[0;31m               run_metadata_ptr)\n\u001b[0m\u001b[1;32m   1383\u001b[0m         \u001b[0;32mif\u001b[0m \u001b[0mrun_metadata\u001b[0m\u001b[0;34m:\u001b[0m\u001b[0;34m\u001b[0m\u001b[0m\n\u001b[1;32m   1384\u001b[0m           \u001b[0mproto_data\u001b[0m \u001b[0;34m=\u001b[0m \u001b[0mtf_session\u001b[0m\u001b[0;34m.\u001b[0m\u001b[0mTF_GetBuffer\u001b[0m\u001b[0;34m(\u001b[0m\u001b[0mrun_metadata_ptr\u001b[0m\u001b[0;34m)\u001b[0m\u001b[0;34m\u001b[0m\u001b[0m\n",
      "\u001b[0;31mKeyboardInterrupt\u001b[0m: "
     ]
    }
   ],
   "source": [
    "file = open('encoded.txt', 'rb')\n",
    "testt = pickle.load(file)\n",
    "testt = np.expand_dims(testt,axis=1)\n",
    "testt = testt.reshape(10000,1,5,1)\n",
    "testt.shape\n",
    "\n",
    "trainn = open('test_encoded.txt','rb')\n",
    "\n",
    "#Begin model\n",
    "model = Sequential()\n",
    "model.add(Conv2D(filters = 5, kernel_size = (1,1),\n",
    "                 activation ='relu', input_shape = (1,5,1)))\n",
    "\n",
    "# model.add(MaxPool2D(pool_size=(1,1)))\n",
    "model.add(Dropout(0.25))\n",
    "# model.add(Conv2D(filters = 64, kernel_size = (3,3),\n",
    "#                  activation ='relu'))\n",
    "model.add(Conv2D(filters = 32, kernel_size = (1,1),\n",
    "                 activation ='relu'))\n",
    "# model.add(MaxPool2D(pool_size=(1,1), strides=(2,2)))\n",
    "model.add(Dropout(0.25))\n",
    "model.add(Flatten())\n",
    "model.add(Dense(128, activation = \"relu\"))\n",
    "# model.add(Dropout(0.5))\n",
    "model.add(Dense(10, activation = \"softmax\"))\n",
    "model.compile(optimizer = 'rmsprop' , loss = \"categorical_crossentropy\", metrics=[\"accuracy\"])\n",
    "model.fit(testt,y_part2,\n",
    "          batch_size=batch_size,\n",
    "          epochs=220)"
   ]
  },
  {
   "cell_type": "code",
   "execution_count": null,
   "metadata": {},
   "outputs": [],
   "source": []
  }
 ],
 "metadata": {
  "kernelspec": {
   "display_name": "Python 3",
   "language": "python",
   "name": "python3"
  },
  "language_info": {
   "codemirror_mode": {
    "name": "ipython",
    "version": 3
   },
   "file_extension": ".py",
   "mimetype": "text/x-python",
   "name": "python",
   "nbconvert_exporter": "python",
   "pygments_lexer": "ipython3",
   "version": "3.6.4"
  }
 },
 "nbformat": 4,
 "nbformat_minor": 2
}
